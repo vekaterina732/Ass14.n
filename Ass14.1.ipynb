{
 "cells": [
  {
   "cell_type": "code",
   "execution_count": 1,
   "id": "71d73050-6972-4279-a8f1-343763b66940",
   "metadata": {
    "tags": []
   },
   "outputs": [
    {
     "name": "stdout",
     "output_type": "stream",
     "text": [
      "0\n",
      "1\n",
      "4\n",
      "9\n",
      "16\n"
     ]
    }
   ],
   "source": [
    "n = 10\n",
    "for i in range(n):\n",
    "    i *= i \n",
    "    print(i)  # This will show `i` in each iteration\n",
    "    if i >= n:\n",
    "        break"
   ]
  },
  {
   "cell_type": "code",
   "execution_count": 2,
   "id": "68b04c82-d1c7-4726-a32b-729ce6e35112",
   "metadata": {
    "tags": []
   },
   "outputs": [
    {
     "name": "stdout",
     "output_type": "stream",
     "text": [
      "1\n",
      "2\n",
      "4\n",
      "8\n",
      "16\n"
     ]
    }
   ],
   "source": [
    "n = 10  # Define a value for n\n",
    "for i in range(n):\n",
    "    i = pow(2, i)  # Set i to 2^i in each iteration\n",
    "    print(i)       # Print i to see the value in each iteration\n",
    "    if i > (n + 1):\n",
    "        break      # Break the loop if i exceeds n + 1"
   ]
  },
  {
   "cell_type": "code",
   "execution_count": 3,
   "id": "eeb5fff9-a2a7-46bc-b87a-8af285c850c9",
   "metadata": {
    "tags": []
   },
   "outputs": [
    {
     "name": "stdout",
     "output_type": "stream",
     "text": [
      "0 3\n",
      "0 2\n",
      "0 1\n",
      "1 2\n",
      "0 1\n",
      "1 3\n",
      "0 2\n",
      "0 1\n",
      "1 2\n",
      "0 1\n",
      "2 3\n",
      "0 2\n",
      "0 1\n",
      "1 2\n",
      "0 1\n"
     ]
    }
   ],
   "source": [
    "def complex_method(n):\n",
    "    for i in range(n):\n",
    "        print(i, n)  # Print i and n to see the current values\n",
    "        if n > 1:\n",
    "            complex_method(n - 1)  # Recursively call with n - 1\n",
    "        else:\n",
    "            return True\n",
    "\n",
    "# Call the function with a starting value for n\n",
    "complex_method(3)"
   ]
  },
  {
   "cell_type": "code",
   "execution_count": null,
   "id": "1d14817a-fd0d-4f11-9017-42330372eb1c",
   "metadata": {},
   "outputs": [],
   "source": []
  }
 ],
 "metadata": {
  "kernelspec": {
   "display_name": "Python 3 (ipykernel)",
   "language": "python",
   "name": "python3"
  },
  "language_info": {
   "codemirror_mode": {
    "name": "ipython",
    "version": 3
   },
   "file_extension": ".py",
   "mimetype": "text/x-python",
   "name": "python",
   "nbconvert_exporter": "python",
   "pygments_lexer": "ipython3",
   "version": "3.10.8"
  }
 },
 "nbformat": 4,
 "nbformat_minor": 5
}
