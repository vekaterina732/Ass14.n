{
 "cells": [
  {
   "cell_type": "code",
   "execution_count": 1,
   "id": "30f7d49d-f95e-4983-aa06-c09630280f7e",
   "metadata": {
    "tags": []
   },
   "outputs": [
    {
     "name": "stdout",
     "output_type": "stream",
     "text": [
      "25\n"
     ]
    }
   ],
   "source": [
    "def sum_of_digits(n):\n",
    "    # Base case: if n is 0, the sum is 0\n",
    "    if n == 0:\n",
    "        return 0\n",
    "    else:\n",
    "        # Recursive case: last digit + sum of the digits of the remaining number\n",
    "        return (n % 10) + sum_of_digits(n // 10)\n",
    "\n",
    "# Example usage\n",
    "n = 53872\n",
    "result = sum_of_digits(n)\n",
    "print(result)  # Output: 25"
   ]
  },
  {
   "cell_type": "code",
   "execution_count": 2,
   "id": "8077c180-5115-4d59-ad99-54aba0a55290",
   "metadata": {
    "tags": []
   },
   "outputs": [
    {
     "name": "stdout",
     "output_type": "stream",
     "text": [
      "144991\n"
     ]
    }
   ],
   "source": [
    "def sum_up_to(n):\n",
    "    # Base case: if n is 0, the sum is 0\n",
    "    if n == 0:\n",
    "        return 0\n",
    "    else:\n",
    "        # Recursive case: n + sum of numbers up to (n-1)\n",
    "        return n + sum_up_to(n - 1)\n",
    "\n",
    "# Example usage\n",
    "n = 538\n",
    "result = sum_up_to(n)\n",
    "print(result)  # Output: 145,363"
   ]
  },
  {
   "cell_type": "code",
   "execution_count": 3,
   "id": "67f1356f-d886-4b43-b983-0d53e45bac57",
   "metadata": {
    "tags": []
   },
   "outputs": [
    {
     "name": "stdout",
     "output_type": "stream",
     "text": [
      "34\n"
     ]
    }
   ],
   "source": [
    "def fibonacci(n):\n",
    "    # Base cases\n",
    "    if n == 0:\n",
    "        return 0\n",
    "    elif n == 1:\n",
    "        return 1\n",
    "    else:\n",
    "        # Recursive case\n",
    "        return fibonacci(n - 1) + fibonacci(n - 2)\n",
    "\n",
    "# Example usage\n",
    "n = 9\n",
    "result = fibonacci(n)\n",
    "print(result)  # Output: 34"
   ]
  },
  {
   "cell_type": "code",
   "execution_count": null,
   "id": "2bbc2266-e632-47aa-bb85-273b2d6c2c95",
   "metadata": {},
   "outputs": [],
   "source": []
  }
 ],
 "metadata": {
  "kernelspec": {
   "display_name": "Python 3 (ipykernel)",
   "language": "python",
   "name": "python3"
  },
  "language_info": {
   "codemirror_mode": {
    "name": "ipython",
    "version": 3
   },
   "file_extension": ".py",
   "mimetype": "text/x-python",
   "name": "python",
   "nbconvert_exporter": "python",
   "pygments_lexer": "ipython3",
   "version": "3.10.8"
  }
 },
 "nbformat": 4,
 "nbformat_minor": 5
}
